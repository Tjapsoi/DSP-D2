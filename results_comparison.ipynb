{
 "cells": [
  {
   "cell_type": "code",
   "execution_count": 12,
   "metadata": {},
   "outputs": [],
   "source": [
    "import pandas as pd\n",
    "import ast"
   ]
  },
  {
   "cell_type": "code",
   "execution_count": 13,
   "metadata": {},
   "outputs": [],
   "source": [
    "gt = pd.read_csv('all_positives_with_tags_full.csv', sep=';').srl_tags.iloc[:100] # Ground Truth\n",
    "\n",
    "la = pd.read_csv('annotations_lena.csv')['LENA SRL TAGS'].iloc[:100]              # Lena Annotation \n",
    "la[99] = \"['O']\"        # Last row in emtpy, likely forgot to annotate\n",
    "\n",
    "ja = pd.read_excel('annotations_jimmy_verb.xlsx').tags_Jimmy                      # Jimmy Annotation \n",
    "\n",
    "o1 = pd.read_excel('annotations_o1.xlsx').srl_tags.iloc[:100]                     # o1 Annotation\n",
    "\n",
    "llama = pd.read_csv('annotations_llama.csv', sep=';').srl_tags                    # Llama annotation\n",
    "\n",
    "claude = pd.read_excel('annotations_claude.xlsx').srl_tags                        # Claude annotation\n",
    "\n",
    "o3 = pd.read_excel('annotations_o3.xlsx').tags                                    # o3 annotation\n",
    "\n",
    "robbert = pd.read_excel('annotations_robBERT.xlsx').tags\n",
    "\n",
    "oa = la"
   ]
  },
  {
   "cell_type": "code",
   "execution_count": 14,
   "metadata": {},
   "outputs": [
    {
     "data": {
      "text/plain": [
       "0     ['O', 'ACTOR', 'ACTOR', 'V','O','O','O', 'OBJ'...\n",
       "1     ['OBJ', 'V','O', 'V','O','O','O','O','O','O','...\n",
       "2     ['ACTOR', 'ACTOR', 'V', 'OBJ', 'OBJ','O', ',',...\n",
       "3     ['ACTOR','O','O','O','O','O','O','O','O','O', ...\n",
       "4     ['REC','O','O','O','O','O', 'ACTOR', 'ACTOR', ...\n",
       "                            ...                        \n",
       "95    ['OBJ', 'OBJ','O','O', 'V','O','O','O','O','O'...\n",
       "96    ['OBJ', 'OBJ', 'OBJ', 'OBJ', 'OBJ', 'OBJ','O',...\n",
       "97    ['O','O','O', 'OBJ', 'OBJ', 'ACTOR', '-', 'ACT...\n",
       "98    ['ACTOR', 'ACTOR', 'V', 'V','O', 'OBJ', 'OBJ',...\n",
       "99                                                ['O']\n",
       "Name: LENA SRL TAGS, Length: 100, dtype: object"
      ]
     },
     "execution_count": 14,
     "metadata": {},
     "output_type": "execute_result"
    }
   ],
   "source": [
    "oa"
   ]
  },
  {
   "cell_type": "code",
   "execution_count": 15,
   "metadata": {},
   "outputs": [],
   "source": [
    "for i in range(len(gt)):\n",
    "    gt[i] = ast.literal_eval(gt[i])\n",
    "\n",
    "for i in range(len(oa)):\n",
    "    oa[i] = ast.literal_eval(oa[i])"
   ]
  },
  {
   "cell_type": "code",
   "execution_count": 16,
   "metadata": {},
   "outputs": [],
   "source": [
    "# actor = 0\n",
    "# verb = 0\n",
    "# object = 0\n",
    "# recipient = 0\n",
    "# o = 0\n",
    "# rest = 0\n",
    "\n",
    "# for i in gt:\n",
    "#     for j in i:\n",
    "#         if j == 'ACTOR':\n",
    "#             actor += 1\n",
    "#         elif j == 'V':\n",
    "#             verb += 1\n",
    "#         elif j == 'OBJ':\n",
    "#             object += 1\n",
    "#         elif j == 'REC':\n",
    "#             recipient += 1\n",
    "#         elif j == 'O':\n",
    "#             o += 1\n",
    "#         else:\n",
    "#             rest += 1\n",
    "\n",
    "# print('Total number of each label in the ground truth:')\n",
    "# print('actor:', actor)\n",
    "# print('verb:', verb)\n",
    "# print('object:', object)\n",
    "# print('recipient:', recipient)\n",
    "# print('o:', o)\n",
    "# print('rest:', rest)\n",
    "\n",
    "# print('\\nSummed up:', actor + verb + object + recipient + o + rest, 'tokens are annotated')"
   ]
  },
  {
   "cell_type": "code",
   "execution_count": 17,
   "metadata": {},
   "outputs": [
    {
     "name": "stdout",
     "output_type": "stream",
     "text": [
      "Number of annotations with unequal length:, 12, which is 12% of total.\n",
      "The statistics are calculated based on the propotion of annotations that have equal length to the ground truth, which is 88 annotations\n",
      "\n",
      "Tokens correctly classified: 1769, which is 87.4% of total.\n",
      "\n",
      "Misclassifications per type:\n",
      "Actor:      46, which is 25.3% of actor classifications.\n",
      "Verb:       14, which is 7.1% of verb classifications.\n",
      "Object:     129, which is 33.8% of object classifications.\n",
      "Recipient:  8, which is 14.8% of recipient classifications.\n",
      "O:          59, which is 5.9% of O classifications.\n",
      "Rest:       0, which is 0.0% of rest classifications.\n"
     ]
    }
   ],
   "source": [
    "unequal_length = 0\n",
    "\n",
    "nr_correct = 0\n",
    "nr_incorrect = 0\n",
    "\n",
    "nr_incorrect_actor = 0\n",
    "nr_incorrect_verb = 0\n",
    "nr_incorrect_object = 0\n",
    "nr_incorrect_recipient = 0\n",
    "nr_incorrect_o = 0\n",
    "nr_incorrect_rest = 0\n",
    "\n",
    "nr_correct_actor = 0\n",
    "nr_correct_verb = 0\n",
    "nr_correct_object = 0\n",
    "nr_correct_recipient = 0\n",
    "nr_correct_o = 0\n",
    "nr_correct_rest = 0\n",
    "\n",
    "for index in range(100):\n",
    "    if len(gt[index]) != len(oa[index]): \n",
    "        unequal_length += 1\n",
    "\n",
    "    else:\n",
    "        length_of_annotation = len(gt[index])\n",
    "        for label in range(length_of_annotation):\n",
    "            if gt[index][label] == oa[index][label]:\n",
    "                nr_correct += 1\n",
    "                if gt[index][label] == 'ACTOR':\n",
    "                    nr_correct_actor += 1\n",
    "                elif gt[index][label] == 'V':\n",
    "                    nr_correct_verb += 1\n",
    "                elif gt[index][label] == 'OBJ':\n",
    "                    nr_correct_object += 1\n",
    "                elif gt[index][label] == 'REC':\n",
    "                    nr_correct_recipient += 1\n",
    "                elif gt[index][label] == 'O':\n",
    "                    nr_correct_o += 1\n",
    "                else:\n",
    "                    nr_correct_rest += 1\n",
    "\n",
    "            else:\n",
    "                nr_incorrect += 1\n",
    "                if gt[index][label] == 'ACTOR':\n",
    "                    nr_incorrect_actor += 1\n",
    "                elif gt[index][label] == 'V':\n",
    "                    nr_incorrect_verb += 1\n",
    "                elif gt[index][label] == 'OBJ':\n",
    "                    nr_incorrect_object += 1\n",
    "                elif gt[index][label] == 'REC':\n",
    "                    nr_incorrect_recipient += 1\n",
    "                elif gt[index][label] == 'O':\n",
    "                    nr_incorrect_o += 1\n",
    "                else:\n",
    "                    nr_incorrect_rest += 1\n",
    "\n",
    "total_classified = nr_correct + nr_incorrect\n",
    "\n",
    "total_classified_actor = nr_correct_actor + nr_incorrect_actor\n",
    "total_classified_verb = nr_correct_verb + nr_incorrect_verb\n",
    "total_classified_object = nr_correct_object + nr_incorrect_object\n",
    "total_classified_recipient = nr_correct_recipient + nr_incorrect_recipient\n",
    "total_classified_o = nr_correct_o + nr_incorrect_o\n",
    "total_classified_rest = nr_correct_rest + nr_incorrect_rest\n",
    "\n",
    "\n",
    "print(f'Number of annotations with unequal length:, {unequal_length}, which is {unequal_length}% of total.')\n",
    "\n",
    "print(f'The statistics are calculated based on the propotion of annotations that have equal length to the ground truth, which is {100-unequal_length} annotations\\n')\n",
    "print(f'Tokens correctly classified: {nr_correct}, which is {round(nr_correct/total_classified*100, 1)}% of total.')\n",
    "\n",
    "print('\\nMisclassifications per type:')\n",
    "print(f'Actor:      {nr_incorrect_actor}, which is {round(nr_incorrect_actor/total_classified_actor*100, 1)}% of actor classifications.')\n",
    "print(f'Verb:       {nr_incorrect_verb}, which is {round(nr_incorrect_verb/total_classified_verb*100, 1)}% of verb classifications.') \n",
    "print(f'Object:     {nr_incorrect_object}, which is {round(nr_incorrect_object/total_classified_object*100, 1)}% of object classifications.')\n",
    "print(f'Recipient:  {nr_incorrect_recipient}, which is {round(nr_incorrect_recipient/total_classified_recipient*100, 1)}% of recipient classifications.')\n",
    "print(f'O:          {nr_incorrect_o}, which is {round(nr_incorrect_o/total_classified_o*100, 1)}% of O classifications.')\n",
    "print(f'Rest:       {nr_incorrect_rest}, which is {round(nr_incorrect_rest/total_classified_rest*100, 1)}% of rest classifications.')\n"
   ]
  },
  {
   "cell_type": "markdown",
   "metadata": {},
   "source": [
    "llama realy struggles with large sentences. it is not super strong. sometimes, it marked punctuation as 'punctuation'. if a sentence was unreasonably long (with large sentences), the annotation is changed to ['O']"
   ]
  },
  {
   "cell_type": "markdown",
   "metadata": {},
   "source": [
    "TODO: \n",
    "- Extend code such that when the length is not equal, the mistakes are still counted. \n",
    "    OR: Divide only by the number of labels it got to annotate of a specific label. So not divide by the total number of labels, rather by the number of labels it got to annotate. "
   ]
  },
  {
   "cell_type": "code",
   "execution_count": 18,
   "metadata": {},
   "outputs": [],
   "source": [
    "# print(f'Tokens correctly classified: {nr_correct}, which is {round(nr_correct/2492*100, 1)}% of total.')\n",
    "# print(f'Number of annotations with unequal length:, {unequal_length}, which is {unequal_length}% of total.')\n",
    "\n",
    "# print('\\nMisclassifications per type:')\n",
    "# print(f'Actor:      {nr_incorrect_actor}, which is {round(nr_incorrect_actor/266*100, 1)}% of total actor classifications.')\n",
    "# print(f'Verb:       {nr_incorrect_verb}, which is {round(nr_incorrect_verb/236*100, 1)}% of total verb classifications.') \n",
    "# print(f'Object:     {nr_incorrect_object}, which is {round(nr_incorrect_object/415*100, 1)}% of total object classifications.')\n",
    "# print(f'Recipient:  {nr_incorrect_recipient}, which is {round(nr_incorrect_recipient/63*100, 1)}% of total recipient classifications.')\n",
    "# print(f'O:          {nr_incorrect_o}, which is {round(nr_incorrect_o/1272*100, 1)}% of total O classifications.')\n",
    "# print(f'Rest:       {nr_incorrect_rest}, which is {round(nr_incorrect_rest/240*100, 1)}% of total rest classifications.')"
   ]
  }
 ],
 "metadata": {
  "kernelspec": {
   "display_name": "Python 3",
   "language": "python",
   "name": "python3"
  },
  "language_info": {
   "codemirror_mode": {
    "name": "ipython",
    "version": 3
   },
   "file_extension": ".py",
   "mimetype": "text/x-python",
   "name": "python",
   "nbconvert_exporter": "python",
   "pygments_lexer": "ipython3",
   "version": "3.9.7"
  }
 },
 "nbformat": 4,
 "nbformat_minor": 2
}
